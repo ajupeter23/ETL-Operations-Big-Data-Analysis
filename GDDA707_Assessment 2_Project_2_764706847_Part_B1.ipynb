{
 "cells": [
  {
   "cell_type": "code",
   "execution_count": null,
   "id": "462dc880",
   "metadata": {},
   "outputs": [],
   "source": [
    "# kaggle"
   ]
  },
  {
   "cell_type": "code",
   "execution_count": 1,
   "id": "d72eb242",
   "metadata": {},
   "outputs": [
    {
     "name": "stdout",
     "output_type": "stream",
     "text": [
      "Requirement already satisfied: kaggle in c:\\users\\ajupe\\anaconda3\\lib\\site-packages (1.6.6)\n",
      "Requirement already satisfied: six>=1.10 in c:\\users\\ajupe\\anaconda3\\lib\\site-packages (from kaggle) (1.16.0)\n",
      "Requirement already satisfied: certifi in c:\\users\\ajupe\\anaconda3\\lib\\site-packages (from kaggle) (2023.7.22)\n",
      "Requirement already satisfied: python-dateutil in c:\\users\\ajupe\\anaconda3\\lib\\site-packages (from kaggle) (2.8.2)\n",
      "Requirement already satisfied: requests in c:\\users\\ajupe\\anaconda3\\lib\\site-packages (from kaggle) (2.31.0)\n",
      "Requirement already satisfied: tqdm in c:\\users\\ajupe\\anaconda3\\lib\\site-packages (from kaggle) (4.65.0)\n",
      "Requirement already satisfied: python-slugify in c:\\users\\ajupe\\anaconda3\\lib\\site-packages (from kaggle) (5.0.2)\n",
      "Requirement already satisfied: urllib3 in c:\\users\\ajupe\\anaconda3\\lib\\site-packages (from kaggle) (1.26.16)\n",
      "Requirement already satisfied: bleach in c:\\users\\ajupe\\anaconda3\\lib\\site-packages (from kaggle) (4.1.0)\n",
      "Requirement already satisfied: packaging in c:\\users\\ajupe\\anaconda3\\lib\\site-packages (from bleach->kaggle) (23.1)\n",
      "Requirement already satisfied: webencodings in c:\\users\\ajupe\\anaconda3\\lib\\site-packages (from bleach->kaggle) (0.5.1)\n",
      "Requirement already satisfied: text-unidecode>=1.3 in c:\\users\\ajupe\\anaconda3\\lib\\site-packages (from python-slugify->kaggle) (1.3)\n",
      "Requirement already satisfied: charset-normalizer<4,>=2 in c:\\users\\ajupe\\anaconda3\\lib\\site-packages (from requests->kaggle) (2.0.4)\n",
      "Requirement already satisfied: idna<4,>=2.5 in c:\\users\\ajupe\\anaconda3\\lib\\site-packages (from requests->kaggle) (3.4)\n",
      "Requirement already satisfied: colorama in c:\\users\\ajupe\\anaconda3\\lib\\site-packages (from tqdm->kaggle) (0.4.6)\n"
     ]
    }
   ],
   "source": [
    "!pip install kaggle"
   ]
  },
  {
   "cell_type": "code",
   "execution_count": 4,
   "id": "acb043c2",
   "metadata": {},
   "outputs": [
    {
     "name": "stdout",
     "output_type": "stream",
     "text": [
      "Invalid dataset specification https://www.kaggle.com/datasets/kabure/retail-bankingdemodata?select=completedtrans.csv\n"
     ]
    }
   ],
   "source": [
    "!kaggle datasets download -d https://www.kaggle.com/datasets/kabure/retail-bankingdemodata?select=completedtrans.csv"
   ]
  },
  {
   "cell_type": "code",
   "execution_count": 5,
   "id": "fdd1d660",
   "metadata": {},
   "outputs": [
    {
     "name": "stdout",
     "output_type": "stream",
     "text": [
      "Requirement already satisfied: requests in c:\\users\\ajupe\\anaconda3\\lib\\site-packages (2.31.0)\n",
      "Requirement already satisfied: charset-normalizer<4,>=2 in c:\\users\\ajupe\\anaconda3\\lib\\site-packages (from requests) (2.0.4)\n",
      "Requirement already satisfied: idna<4,>=2.5 in c:\\users\\ajupe\\anaconda3\\lib\\site-packages (from requests) (3.4)\n",
      "Requirement already satisfied: urllib3<3,>=1.21.1 in c:\\users\\ajupe\\anaconda3\\lib\\site-packages (from requests) (1.26.16)\n",
      "Requirement already satisfied: certifi>=2017.4.17 in c:\\users\\ajupe\\anaconda3\\lib\\site-packages (from requests) (2023.7.22)\n"
     ]
    }
   ],
   "source": [
    "!pip install requests"
   ]
  },
  {
   "cell_type": "code",
   "execution_count": 6,
   "id": "3d47702c",
   "metadata": {},
   "outputs": [],
   "source": [
    "import requests\n",
    "import pandas as pd"
   ]
  },
  {
   "cell_type": "code",
   "execution_count": 12,
   "id": "c33efc9b",
   "metadata": {},
   "outputs": [
    {
     "name": "stdout",
     "output_type": "stream",
     "text": [
      "401 - Unauthorized - Unauthenticated\n"
     ]
    }
   ],
   "source": [
    "!kaggle datasets download -d kabure/retail-bankingdemodata\n"
   ]
  },
  {
   "cell_type": "code",
   "execution_count": 13,
   "id": "063a0cdd",
   "metadata": {},
   "outputs": [],
   "source": [
    "import os\n",
    "\n",
    "# Make sure kaggle.json is in the current directory and then set KAGGLE_CONFIG_DIR\n",
    "os.environ['KAGGLE_CONFIG_DIR'] = os.getcwd()\n"
   ]
  },
  {
   "cell_type": "code",
   "execution_count": 14,
   "id": "d9b6ff4f",
   "metadata": {},
   "outputs": [
    {
     "name": "stdout",
     "output_type": "stream",
     "text": [
      "Downloading retail-bankingdemodata.zip to C:\\Users\\ajupe\\OneDrive - New Zealand Skills & Education Group\\GDDA7123C\\GDDA707_Advanced Data Engineering\\Assessment-2\n",
      "\n"
     ]
    },
    {
     "name": "stderr",
     "output_type": "stream",
     "text": [
      "\n",
      "  0%|          | 0.00/31.8M [00:00<?, ?B/s]\n",
      "  3%|3         | 1.00M/31.8M [00:01<00:39, 827kB/s]\n",
      "  6%|6         | 2.00M/31.8M [00:01<00:19, 1.62MB/s]\n",
      "  9%|9         | 3.00M/31.8M [00:01<00:12, 2.42MB/s]\n",
      " 13%|#2        | 4.00M/31.8M [00:01<00:08, 3.39MB/s]\n",
      " 16%|#5        | 5.00M/31.8M [00:01<00:06, 4.38MB/s]\n",
      " 19%|#8        | 6.00M/31.8M [00:02<00:05, 4.95MB/s]\n",
      " 22%|##1       | 7.00M/31.8M [00:02<00:04, 5.87MB/s]\n",
      " 25%|##5       | 8.00M/31.8M [00:02<00:04, 6.03MB/s]\n",
      " 31%|###1      | 10.0M/31.8M [00:02<00:03, 7.35MB/s]\n",
      " 35%|###4      | 11.0M/31.8M [00:02<00:02, 7.55MB/s]\n",
      " 38%|###7      | 12.0M/31.8M [00:02<00:02, 7.73MB/s]\n",
      " 41%|####      | 13.0M/31.8M [00:02<00:02, 7.82MB/s]\n",
      " 44%|####3     | 14.0M/31.8M [00:03<00:02, 7.66MB/s]\n",
      " 47%|####7     | 15.0M/31.8M [00:03<00:02, 7.96MB/s]\n",
      " 50%|#####     | 16.0M/31.8M [00:03<00:01, 8.43MB/s]\n",
      " 53%|#####3    | 17.0M/31.8M [00:03<00:01, 7.98MB/s]\n",
      " 57%|#####6    | 18.0M/31.8M [00:03<00:01, 8.50MB/s]\n",
      " 60%|#####9    | 19.0M/31.8M [00:03<00:01, 8.41MB/s]\n",
      " 63%|######2   | 20.0M/31.8M [00:03<00:01, 8.42MB/s]\n",
      " 66%|######5   | 21.0M/31.8M [00:03<00:01, 8.49MB/s]\n",
      " 69%|######9   | 22.0M/31.8M [00:04<00:01, 8.46MB/s]\n",
      " 72%|#######2  | 23.0M/31.8M [00:04<00:01, 8.31MB/s]\n",
      " 75%|#######5  | 24.0M/31.8M [00:04<00:00, 8.36MB/s]\n",
      " 79%|#######8  | 25.0M/31.8M [00:04<00:00, 8.41MB/s]\n",
      " 82%|########1 | 26.0M/31.8M [00:04<00:00, 8.33MB/s]\n",
      " 85%|########4 | 27.0M/31.8M [00:04<00:00, 8.34MB/s]\n",
      " 88%|########7 | 28.0M/31.8M [00:04<00:00, 8.33MB/s]\n",
      " 91%|#########1| 29.0M/31.8M [00:04<00:00, 8.41MB/s]\n",
      " 94%|#########4| 30.0M/31.8M [00:05<00:00, 7.88MB/s]\n",
      " 97%|#########7| 31.0M/31.8M [00:05<00:00, 8.49MB/s]\n",
      "100%|##########| 31.8M/31.8M [00:05<00:00, 8.18MB/s]\n",
      "100%|##########| 31.8M/31.8M [00:05<00:00, 6.30MB/s]\n"
     ]
    }
   ],
   "source": [
    "!kaggle datasets download -d kabure/retail-bankingdemodata"
   ]
  },
  {
   "cell_type": "code",
   "execution_count": 15,
   "id": "e9ad5d11",
   "metadata": {},
   "outputs": [],
   "source": [
    "from zipfile import ZipFile\n",
    "\n",
    "# Adjust the file name as necessary\n",
    "zip_file = \"retail-bankingdemodata.zip\"\n",
    "\n",
    "with ZipFile(zip_file, 'r') as zip_ref:\n",
    "    zip_ref.extractall()\n",
    "\n",
    "#  remove the ZIP file after extraction\n",
    "import os\n",
    "os.remove(zip_file)\n"
   ]
  },
  {
   "cell_type": "code",
   "execution_count": 16,
   "id": "cf61dd92",
   "metadata": {},
   "outputs": [
    {
     "name": "stderr",
     "output_type": "stream",
     "text": [
      "C:\\Users\\ajupe\\AppData\\Local\\Temp\\ipykernel_7072\\2116646077.py:4: DtypeWarning: Columns (8) have mixed types. Specify dtype option on import or set low_memory=False.\n",
      "  df = pd.read_csv('completedtrans.csv')\n"
     ]
    },
    {
     "data": {
      "text/html": [
       "<div>\n",
       "<style scoped>\n",
       "    .dataframe tbody tr th:only-of-type {\n",
       "        vertical-align: middle;\n",
       "    }\n",
       "\n",
       "    .dataframe tbody tr th {\n",
       "        vertical-align: top;\n",
       "    }\n",
       "\n",
       "    .dataframe thead th {\n",
       "        text-align: right;\n",
       "    }\n",
       "</style>\n",
       "<table border=\"1\" class=\"dataframe\">\n",
       "  <thead>\n",
       "    <tr style=\"text-align: right;\">\n",
       "      <th></th>\n",
       "      <th>column_a</th>\n",
       "      <th>trans_id</th>\n",
       "      <th>account_id</th>\n",
       "      <th>type</th>\n",
       "      <th>operation</th>\n",
       "      <th>amount</th>\n",
       "      <th>balance</th>\n",
       "      <th>k_symbol</th>\n",
       "      <th>bank</th>\n",
       "      <th>account</th>\n",
       "      <th>year</th>\n",
       "      <th>month</th>\n",
       "      <th>day</th>\n",
       "      <th>fulldate</th>\n",
       "      <th>fulltime</th>\n",
       "      <th>fulldatewithtime</th>\n",
       "      <th>date</th>\n",
       "    </tr>\n",
       "  </thead>\n",
       "  <tbody>\n",
       "    <tr>\n",
       "      <th>0</th>\n",
       "      <td>1</td>\n",
       "      <td>T00695247</td>\n",
       "      <td>A00002378</td>\n",
       "      <td>Credit</td>\n",
       "      <td>Credit in Cash</td>\n",
       "      <td>700.0</td>\n",
       "      <td>700.0</td>\n",
       "      <td>NaN</td>\n",
       "      <td>NaN</td>\n",
       "      <td>NaN</td>\n",
       "      <td>2013</td>\n",
       "      <td>1</td>\n",
       "      <td>1</td>\n",
       "      <td>2013-01-01</td>\n",
       "      <td>11:02:40</td>\n",
       "      <td>2013-01-01T11:02:40</td>\n",
       "      <td>2013-01-01</td>\n",
       "    </tr>\n",
       "    <tr>\n",
       "      <th>1</th>\n",
       "      <td>2</td>\n",
       "      <td>T00171812</td>\n",
       "      <td>A00000576</td>\n",
       "      <td>Credit</td>\n",
       "      <td>Credit in Cash</td>\n",
       "      <td>900.0</td>\n",
       "      <td>900.0</td>\n",
       "      <td>NaN</td>\n",
       "      <td>NaN</td>\n",
       "      <td>NaN</td>\n",
       "      <td>2013</td>\n",
       "      <td>1</td>\n",
       "      <td>1</td>\n",
       "      <td>2013-01-01</td>\n",
       "      <td>08:23:33</td>\n",
       "      <td>2013-01-01T08:23:33</td>\n",
       "      <td>2013-01-01</td>\n",
       "    </tr>\n",
       "    <tr>\n",
       "      <th>2</th>\n",
       "      <td>3</td>\n",
       "      <td>T00207264</td>\n",
       "      <td>A00000704</td>\n",
       "      <td>Credit</td>\n",
       "      <td>Credit in Cash</td>\n",
       "      <td>1000.0</td>\n",
       "      <td>1000.0</td>\n",
       "      <td>NaN</td>\n",
       "      <td>NaN</td>\n",
       "      <td>NaN</td>\n",
       "      <td>2013</td>\n",
       "      <td>1</td>\n",
       "      <td>1</td>\n",
       "      <td>2013-01-01</td>\n",
       "      <td>15:19:21</td>\n",
       "      <td>2013-01-01T15:19:21</td>\n",
       "      <td>2013-01-01</td>\n",
       "    </tr>\n",
       "    <tr>\n",
       "      <th>3</th>\n",
       "      <td>4</td>\n",
       "      <td>T01117247</td>\n",
       "      <td>A00003818</td>\n",
       "      <td>Credit</td>\n",
       "      <td>Credit in Cash</td>\n",
       "      <td>600.0</td>\n",
       "      <td>600.0</td>\n",
       "      <td>NaN</td>\n",
       "      <td>NaN</td>\n",
       "      <td>NaN</td>\n",
       "      <td>2013</td>\n",
       "      <td>1</td>\n",
       "      <td>1</td>\n",
       "      <td>2013-01-01</td>\n",
       "      <td>10:42:35</td>\n",
       "      <td>2013-01-01T10:42:35</td>\n",
       "      <td>2013-01-01</td>\n",
       "    </tr>\n",
       "    <tr>\n",
       "      <th>4</th>\n",
       "      <td>5</td>\n",
       "      <td>T00579373</td>\n",
       "      <td>A00001972</td>\n",
       "      <td>Credit</td>\n",
       "      <td>Credit in Cash</td>\n",
       "      <td>400.0</td>\n",
       "      <td>400.0</td>\n",
       "      <td>NaN</td>\n",
       "      <td>NaN</td>\n",
       "      <td>NaN</td>\n",
       "      <td>2013</td>\n",
       "      <td>1</td>\n",
       "      <td>2</td>\n",
       "      <td>2013-01-02</td>\n",
       "      <td>11:39:25</td>\n",
       "      <td>2013-01-02T11:39:25</td>\n",
       "      <td>2013-01-02</td>\n",
       "    </tr>\n",
       "  </tbody>\n",
       "</table>\n",
       "</div>"
      ],
      "text/plain": [
       "   column_a   trans_id account_id    type       operation  amount  balance  \\\n",
       "0         1  T00695247  A00002378  Credit  Credit in Cash   700.0    700.0   \n",
       "1         2  T00171812  A00000576  Credit  Credit in Cash   900.0    900.0   \n",
       "2         3  T00207264  A00000704  Credit  Credit in Cash  1000.0   1000.0   \n",
       "3         4  T01117247  A00003818  Credit  Credit in Cash   600.0    600.0   \n",
       "4         5  T00579373  A00001972  Credit  Credit in Cash   400.0    400.0   \n",
       "\n",
       "  k_symbol bank  account  year  month  day    fulldate  fulltime  \\\n",
       "0      NaN  NaN      NaN  2013      1    1  2013-01-01  11:02:40   \n",
       "1      NaN  NaN      NaN  2013      1    1  2013-01-01  08:23:33   \n",
       "2      NaN  NaN      NaN  2013      1    1  2013-01-01  15:19:21   \n",
       "3      NaN  NaN      NaN  2013      1    1  2013-01-01  10:42:35   \n",
       "4      NaN  NaN      NaN  2013      1    2  2013-01-02  11:39:25   \n",
       "\n",
       "      fulldatewithtime        date  \n",
       "0  2013-01-01T11:02:40  2013-01-01  \n",
       "1  2013-01-01T08:23:33  2013-01-01  \n",
       "2  2013-01-01T15:19:21  2013-01-01  \n",
       "3  2013-01-01T10:42:35  2013-01-01  \n",
       "4  2013-01-02T11:39:25  2013-01-02  "
      ]
     },
     "execution_count": 16,
     "metadata": {},
     "output_type": "execute_result"
    }
   ],
   "source": [
    "import pandas as pd\n",
    "\n",
    "# Load the CSV file\n",
    "df = pd.read_csv('completedtrans.csv')\n",
    "\n",
    "# Display the first few rows of the DataFrame\n",
    "df.head()\n"
   ]
  },
  {
   "cell_type": "code",
   "execution_count": 17,
   "id": "1f914292",
   "metadata": {},
   "outputs": [
    {
     "data": {
      "text/plain": [
       "(1056320, 17)"
      ]
     },
     "execution_count": 17,
     "metadata": {},
     "output_type": "execute_result"
    }
   ],
   "source": [
    "df.shape"
   ]
  },
  {
   "cell_type": "code",
   "execution_count": 18,
   "id": "eadc2e6c",
   "metadata": {},
   "outputs": [
    {
     "data": {
      "text/plain": [
       "column_a                 0\n",
       "trans_id                 0\n",
       "account_id               0\n",
       "type                     0\n",
       "operation           183114\n",
       "amount                   0\n",
       "balance                  0\n",
       "k_symbol            481881\n",
       "bank                782812\n",
       "account             760931\n",
       "year                     0\n",
       "month                    0\n",
       "day                      0\n",
       "fulldate                 0\n",
       "fulltime                 0\n",
       "fulldatewithtime         0\n",
       "date                     0\n",
       "dtype: int64"
      ]
     },
     "execution_count": 18,
     "metadata": {},
     "output_type": "execute_result"
    }
   ],
   "source": [
    "df.isnull().sum()"
   ]
  },
  {
   "cell_type": "code",
   "execution_count": 19,
   "id": "441a5e2d",
   "metadata": {},
   "outputs": [
    {
     "name": "stdout",
     "output_type": "stream",
     "text": [
      "<class 'pandas.core.frame.DataFrame'>\n",
      "RangeIndex: 1056320 entries, 0 to 1056319\n",
      "Data columns (total 17 columns):\n",
      " #   Column            Non-Null Count    Dtype  \n",
      "---  ------            --------------    -----  \n",
      " 0   column_a          1056320 non-null  int64  \n",
      " 1   trans_id          1056320 non-null  object \n",
      " 2   account_id        1056320 non-null  object \n",
      " 3   type              1056320 non-null  object \n",
      " 4   operation         873206 non-null   object \n",
      " 5   amount            1056320 non-null  float64\n",
      " 6   balance           1056320 non-null  float64\n",
      " 7   k_symbol          574439 non-null   object \n",
      " 8   bank              273508 non-null   object \n",
      " 9   account           295389 non-null   float64\n",
      " 10  year              1056320 non-null  int64  \n",
      " 11  month             1056320 non-null  int64  \n",
      " 12  day               1056320 non-null  int64  \n",
      " 13  fulldate          1056320 non-null  object \n",
      " 14  fulltime          1056320 non-null  object \n",
      " 15  fulldatewithtime  1056320 non-null  object \n",
      " 16  date              1056320 non-null  object \n",
      "dtypes: float64(3), int64(4), object(10)\n",
      "memory usage: 137.0+ MB\n"
     ]
    }
   ],
   "source": [
    "df.info()"
   ]
  },
  {
   "cell_type": "code",
   "execution_count": 24,
   "id": "e9db9eb5",
   "metadata": {},
   "outputs": [],
   "source": [
    "drop_columns = ['operation', 'k_symbol', 'bank', 'account']\n",
    "\n",
    "# Assuming 'df' is your DataFrame\n",
    "df = df.drop(columns=drop_columns)"
   ]
  },
  {
   "cell_type": "code",
   "execution_count": 25,
   "id": "150d7fbf",
   "metadata": {},
   "outputs": [
    {
     "data": {
      "text/plain": [
       "column_a            0\n",
       "trans_id            0\n",
       "account_id          0\n",
       "type                0\n",
       "amount              0\n",
       "balance             0\n",
       "year                0\n",
       "month               0\n",
       "day                 0\n",
       "fulldate            0\n",
       "fulltime            0\n",
       "fulldatewithtime    0\n",
       "date                0\n",
       "dtype: int64"
      ]
     },
     "execution_count": 25,
     "metadata": {},
     "output_type": "execute_result"
    }
   ],
   "source": [
    "df.isnull().sum()"
   ]
  },
  {
   "cell_type": "code",
   "execution_count": 26,
   "id": "8f5e46a5",
   "metadata": {},
   "outputs": [
    {
     "name": "stdout",
     "output_type": "stream",
     "text": [
      "Requirement already satisfied: pandas in c:\\users\\ajupe\\anaconda3\\lib\\site-packages (2.2.0)\n",
      "Requirement already satisfied: pyarrow in c:\\users\\ajupe\\anaconda3\\lib\\site-packages (11.0.0)\n",
      "Requirement already satisfied: numpy<2,>=1.23.2 in c:\\users\\ajupe\\anaconda3\\lib\\site-packages (from pandas) (1.24.3)\n",
      "Requirement already satisfied: python-dateutil>=2.8.2 in c:\\users\\ajupe\\anaconda3\\lib\\site-packages (from pandas) (2.8.2)\n",
      "Requirement already satisfied: pytz>=2020.1 in c:\\users\\ajupe\\anaconda3\\lib\\site-packages (from pandas) (2023.3.post1)\n",
      "Requirement already satisfied: tzdata>=2022.7 in c:\\users\\ajupe\\anaconda3\\lib\\site-packages (from pandas) (2023.3)\n",
      "Requirement already satisfied: six>=1.5 in c:\\users\\ajupe\\anaconda3\\lib\\site-packages (from python-dateutil>=2.8.2->pandas) (1.16.0)\n"
     ]
    }
   ],
   "source": [
    "!pip install pandas pyarrow"
   ]
  },
  {
   "cell_type": "code",
   "execution_count": 27,
   "id": "4c51c4e4",
   "metadata": {},
   "outputs": [],
   "source": [
    "# Assuming 'df' is your DataFrame\n",
    "bank_transaction = 'bank_transaction.parquet'  # Name of the local file to be created\n",
    "df.to_parquet(bank_transaction, index=False)"
   ]
  },
  {
   "cell_type": "code",
   "execution_count": 29,
   "id": "a268a216",
   "metadata": {},
   "outputs": [
    {
     "name": "stdout",
     "output_type": "stream",
     "text": [
      "Collecting google-cloud-storage\n",
      "  Obtaining dependency information for google-cloud-storage from https://files.pythonhosted.org/packages/a7/0b/810c51757e1815a6e0888a914e1b7493f8ed9f50878fb4e44114693deb24/google_cloud_storage-2.15.0-py2.py3-none-any.whl.metadata\n",
      "  Downloading google_cloud_storage-2.15.0-py2.py3-none-any.whl.metadata (6.1 kB)\n",
      "Requirement already satisfied: google-auth<3.0dev,>=2.26.1 in c:\\users\\ajupe\\anaconda3\\lib\\site-packages (from google-cloud-storage) (2.28.1)\n",
      "Requirement already satisfied: google-api-core<3.0.0dev,>=2.15.0 in c:\\users\\ajupe\\anaconda3\\lib\\site-packages (from google-cloud-storage) (2.17.1)\n",
      "Requirement already satisfied: google-cloud-core<3.0dev,>=2.3.0 in c:\\users\\ajupe\\anaconda3\\lib\\site-packages (from google-cloud-storage) (2.4.1)\n",
      "Requirement already satisfied: google-resumable-media>=2.6.0 in c:\\users\\ajupe\\anaconda3\\lib\\site-packages (from google-cloud-storage) (2.7.0)\n",
      "Requirement already satisfied: requests<3.0.0dev,>=2.18.0 in c:\\users\\ajupe\\anaconda3\\lib\\site-packages (from google-cloud-storage) (2.31.0)\n",
      "Requirement already satisfied: google-crc32c<2.0dev,>=1.0 in c:\\users\\ajupe\\anaconda3\\lib\\site-packages (from google-cloud-storage) (1.5.0)\n",
      "Requirement already satisfied: googleapis-common-protos<2.0.dev0,>=1.56.2 in c:\\users\\ajupe\\anaconda3\\lib\\site-packages (from google-api-core<3.0.0dev,>=2.15.0->google-cloud-storage) (1.62.0)\n",
      "Requirement already satisfied: protobuf!=3.20.0,!=3.20.1,!=4.21.0,!=4.21.1,!=4.21.2,!=4.21.3,!=4.21.4,!=4.21.5,<5.0.0.dev0,>=3.19.5 in c:\\users\\ajupe\\anaconda3\\lib\\site-packages (from google-api-core<3.0.0dev,>=2.15.0->google-cloud-storage) (4.25.3)\n",
      "Requirement already satisfied: cachetools<6.0,>=2.0.0 in c:\\users\\ajupe\\anaconda3\\lib\\site-packages (from google-auth<3.0dev,>=2.26.1->google-cloud-storage) (5.3.3)\n",
      "Requirement already satisfied: pyasn1-modules>=0.2.1 in c:\\users\\ajupe\\anaconda3\\lib\\site-packages (from google-auth<3.0dev,>=2.26.1->google-cloud-storage) (0.2.8)\n",
      "Requirement already satisfied: rsa<5,>=3.1.4 in c:\\users\\ajupe\\anaconda3\\lib\\site-packages (from google-auth<3.0dev,>=2.26.1->google-cloud-storage) (4.9)\n",
      "Requirement already satisfied: charset-normalizer<4,>=2 in c:\\users\\ajupe\\anaconda3\\lib\\site-packages (from requests<3.0.0dev,>=2.18.0->google-cloud-storage) (2.0.4)\n",
      "Requirement already satisfied: idna<4,>=2.5 in c:\\users\\ajupe\\anaconda3\\lib\\site-packages (from requests<3.0.0dev,>=2.18.0->google-cloud-storage) (3.4)\n",
      "Requirement already satisfied: urllib3<3,>=1.21.1 in c:\\users\\ajupe\\anaconda3\\lib\\site-packages (from requests<3.0.0dev,>=2.18.0->google-cloud-storage) (1.26.16)\n",
      "Requirement already satisfied: certifi>=2017.4.17 in c:\\users\\ajupe\\anaconda3\\lib\\site-packages (from requests<3.0.0dev,>=2.18.0->google-cloud-storage) (2023.7.22)\n",
      "Requirement already satisfied: pyasn1<0.5.0,>=0.4.6 in c:\\users\\ajupe\\anaconda3\\lib\\site-packages (from pyasn1-modules>=0.2.1->google-auth<3.0dev,>=2.26.1->google-cloud-storage) (0.4.8)\n",
      "Downloading google_cloud_storage-2.15.0-py2.py3-none-any.whl (123 kB)\n",
      "   ---------------------------------------- 0.0/123.5 kB ? eta -:--:--\n",
      "   --- ------------------------------------ 10.2/123.5 kB ? eta -:--:--\n",
      "   --------- ----------------------------- 30.7/123.5 kB 435.7 kB/s eta 0:00:01\n",
      "   ------------------------------- ------ 102.4/123.5 kB 980.4 kB/s eta 0:00:01\n",
      "   -------------------------------------- 123.5/123.5 kB 906.1 kB/s eta 0:00:00\n",
      "Installing collected packages: google-cloud-storage\n",
      "Successfully installed google-cloud-storage-2.15.0\n"
     ]
    }
   ],
   "source": [
    "!pip install google-cloud-storage"
   ]
  },
  {
   "cell_type": "code",
   "execution_count": null,
   "id": "d25c62dc",
   "metadata": {},
   "outputs": [],
   "source": [
    "created a service account"
   ]
  },
  {
   "cell_type": "code",
   "execution_count": 31,
   "id": "00a0bca7",
   "metadata": {},
   "outputs": [],
   "source": [
    "import os\n",
    "\n",
    "# Replace 'path/to/your/service-account-file.json' with the actual path to your service account key file\n",
    "os.environ['GOOGLE_APPLICATION_CREDENTIALS'] = 'C:\\\\Users\\\\ajupe\\\\OneDrive - New Zealand Skills & Education Group\\\\GDDA7123C\\\\GDDA707_Advanced Data Engineering\\\\Assessment-2\\\\gdda707assessment2-2bfa36490da5.json'\n"
   ]
  },
  {
   "cell_type": "code",
   "execution_count": 33,
   "id": "2e088258",
   "metadata": {},
   "outputs": [
    {
     "name": "stdout",
     "output_type": "stream",
     "text": [
      "File bank_transaction.parquet uploaded to bank_transaction/bank_transaction.parquet.\n"
     ]
    }
   ],
   "source": [
    "from google.cloud import storage\n",
    "\n",
    "# Initialize the Google Cloud Storage client\n",
    "storage_client = storage.Client()\n",
    "\n",
    "# Your GCP bucket name\n",
    "bucket_name = '707storage'\n",
    "\n",
    "# The destination path and file name in your bucket\n",
    "destination_blob_name = 'bank_transaction/bank_transaction.parquet'\n",
    "\n",
    "# The path to your local file you want to upload\n",
    "parquet_file = 'bank_transaction.parquet'\n",
    "\n",
    "# Get the bucket\n",
    "bucket = storage_client.bucket(bucket_name)\n",
    "\n",
    "# Create a new blob and upload the file's content\n",
    "blob = bucket.blob(destination_blob_name)\n",
    "blob.upload_from_filename(parquet_file)\n",
    "\n",
    "print(f'File {parquet_file} uploaded to {destination_blob_name}.')\n"
   ]
  },
  {
   "cell_type": "code",
   "execution_count": null,
   "id": "05b96b84",
   "metadata": {},
   "outputs": [],
   "source": []
  },
  {
   "cell_type": "code",
   "execution_count": null,
   "id": "afa45e5d",
   "metadata": {},
   "outputs": [],
   "source": []
  },
  {
   "cell_type": "code",
   "execution_count": 61,
   "id": "b8a2b312",
   "metadata": {},
   "outputs": [
    {
     "data": {
      "text/html": [
       "<div>\n",
       "<style scoped>\n",
       "    .dataframe tbody tr th:only-of-type {\n",
       "        vertical-align: middle;\n",
       "    }\n",
       "\n",
       "    .dataframe tbody tr th {\n",
       "        vertical-align: top;\n",
       "    }\n",
       "\n",
       "    .dataframe thead th {\n",
       "        text-align: right;\n",
       "    }\n",
       "</style>\n",
       "<table border=\"1\" class=\"dataframe\">\n",
       "  <thead>\n",
       "    <tr style=\"text-align: right;\">\n",
       "      <th></th>\n",
       "      <th>I4127227587819694</th>\n",
       "      <th>8UX5SHHQ-FVEE-5XU7-FBF8-82OINYYK7KSD</th>\n",
       "      <th>1873.26</th>\n",
       "      <th>USD</th>\n",
       "      <th>6</th>\n",
       "      <th>A</th>\n",
       "      <th>P</th>\n",
       "      <th>173.225</th>\n",
       "      <th>connecticut</th>\n",
       "      <th>6840</th>\n",
       "      <th>...</th>\n",
       "      <th>6840.1</th>\n",
       "      <th>CT</th>\n",
       "      <th>US</th>\n",
       "      <th>6840.2</th>\n",
       "      <th>CT.1</th>\n",
       "      <th>US.1</th>\n",
       "      <th>M</th>\n",
       "      <th>0</th>\n",
       "      <th>17</th>\n",
       "      <th>3/8/2007 18:03</th>\n",
       "    </tr>\n",
       "  </thead>\n",
       "  <tbody>\n",
       "    <tr>\n",
       "      <th>0</th>\n",
       "      <td>E9525730529761877</td>\n",
       "      <td>7LF834E4-BLWQ-FJ92-YEYA-85AF05RI2PCX</td>\n",
       "      <td>740.66</td>\n",
       "      <td>USD</td>\n",
       "      <td>13</td>\n",
       "      <td>A</td>\n",
       "      <td>P</td>\n",
       "      <td>81.159</td>\n",
       "      <td>greater london</td>\n",
       "      <td>sw2</td>\n",
       "      <td>...</td>\n",
       "      <td>GU11 1YH</td>\n",
       "      <td>NaN</td>\n",
       "      <td>GB</td>\n",
       "      <td>GU11 1YH</td>\n",
       "      <td>NaN</td>\n",
       "      <td>GB</td>\n",
       "      <td>M</td>\n",
       "      <td>10</td>\n",
       "      <td>19</td>\n",
       "      <td>7/26/2007 2:36</td>\n",
       "    </tr>\n",
       "    <tr>\n",
       "      <th>1</th>\n",
       "      <td>Z6376643485803420</td>\n",
       "      <td>8ZFFW0QS-PN3Y-9N5U-28DW-6HFI162RGVVF</td>\n",
       "      <td>1535.15</td>\n",
       "      <td>USD</td>\n",
       "      <td>4</td>\n",
       "      <td>A</td>\n",
       "      <td>P</td>\n",
       "      <td>97.118</td>\n",
       "      <td>colorado</td>\n",
       "      <td>80126</td>\n",
       "      <td>...</td>\n",
       "      <td>80104</td>\n",
       "      <td>CO</td>\n",
       "      <td>US</td>\n",
       "      <td>80104</td>\n",
       "      <td>CO</td>\n",
       "      <td>US</td>\n",
       "      <td>M</td>\n",
       "      <td>6</td>\n",
       "      <td>24</td>\n",
       "      <td>4/7/2007 19:39</td>\n",
       "    </tr>\n",
       "    <tr>\n",
       "      <th>2</th>\n",
       "      <td>R8609290025411138</td>\n",
       "      <td>SVV7LJ8A-PG2L-JVNJ-66NF-HDSQ107UQO5N</td>\n",
       "      <td>1324.41</td>\n",
       "      <td>USD</td>\n",
       "      <td>13</td>\n",
       "      <td>A</td>\n",
       "      <td>P</td>\n",
       "      <td>216.150</td>\n",
       "      <td>new york</td>\n",
       "      <td>14534</td>\n",
       "      <td>...</td>\n",
       "      <td>85233</td>\n",
       "      <td>AZ</td>\n",
       "      <td>US</td>\n",
       "      <td>85233</td>\n",
       "      <td>AZ</td>\n",
       "      <td>US</td>\n",
       "      <td>M</td>\n",
       "      <td>9</td>\n",
       "      <td>7</td>\n",
       "      <td>5/16/2007 11:37</td>\n",
       "    </tr>\n",
       "    <tr>\n",
       "      <th>3</th>\n",
       "      <td>Y9572700698484288</td>\n",
       "      <td>3SWVJA0R-MZ11-RM1T-E0BJ-XACU1NOQQRNC</td>\n",
       "      <td>697.31</td>\n",
       "      <td>BRL</td>\n",
       "      <td>14</td>\n",
       "      <td>A</td>\n",
       "      <td>P</td>\n",
       "      <td>91.119</td>\n",
       "      <td>wien</td>\n",
       "      <td>1000</td>\n",
       "      <td>...</td>\n",
       "      <td>1220</td>\n",
       "      <td>NaN</td>\n",
       "      <td>AT</td>\n",
       "      <td>1220</td>\n",
       "      <td>NaN</td>\n",
       "      <td>AT</td>\n",
       "      <td>M</td>\n",
       "      <td>0</td>\n",
       "      <td>25</td>\n",
       "      <td>10/18/2007 12:52</td>\n",
       "    </tr>\n",
       "    <tr>\n",
       "      <th>4</th>\n",
       "      <td>W9847720367646182</td>\n",
       "      <td>IG442ZIB-TJCR-V83L-0L8J-RHLM8MWX8MFK</td>\n",
       "      <td>575.16</td>\n",
       "      <td>USD</td>\n",
       "      <td>10</td>\n",
       "      <td>A</td>\n",
       "      <td>P</td>\n",
       "      <td>75.115</td>\n",
       "      <td>florida</td>\n",
       "      <td>33578</td>\n",
       "      <td>...</td>\n",
       "      <td>NaN</td>\n",
       "      <td>NaN</td>\n",
       "      <td>US</td>\n",
       "      <td>NaN</td>\n",
       "      <td>NaN</td>\n",
       "      <td>US</td>\n",
       "      <td>M</td>\n",
       "      <td>8</td>\n",
       "      <td>4</td>\n",
       "      <td>2/11/2007 1:59</td>\n",
       "    </tr>\n",
       "  </tbody>\n",
       "</table>\n",
       "<p>5 rows × 25 columns</p>\n",
       "</div>"
      ],
      "text/plain": [
       "   I4127227587819694  8UX5SHHQ-FVEE-5XU7-FBF8-82OINYYK7KSD  1873.26  USD   6  \\\n",
       "0  E9525730529761877  7LF834E4-BLWQ-FJ92-YEYA-85AF05RI2PCX   740.66  USD  13   \n",
       "1  Z6376643485803420  8ZFFW0QS-PN3Y-9N5U-28DW-6HFI162RGVVF  1535.15  USD   4   \n",
       "2  R8609290025411138  SVV7LJ8A-PG2L-JVNJ-66NF-HDSQ107UQO5N  1324.41  USD  13   \n",
       "3  Y9572700698484288  3SWVJA0R-MZ11-RM1T-E0BJ-XACU1NOQQRNC   697.31  BRL  14   \n",
       "4  W9847720367646182  IG442ZIB-TJCR-V83L-0L8J-RHLM8MWX8MFK   575.16  USD  10   \n",
       "\n",
       "   A  P  173.225     connecticut   6840  ...    6840.1   CT  US    6840.2  \\\n",
       "0  A  P   81.159  greater london    sw2  ...  GU11 1YH  NaN  GB  GU11 1YH   \n",
       "1  A  P   97.118        colorado  80126  ...     80104   CO  US     80104   \n",
       "2  A  P  216.150        new york  14534  ...     85233   AZ  US     85233   \n",
       "3  A  P   91.119            wien   1000  ...      1220  NaN  AT      1220   \n",
       "4  A  P   75.115         florida  33578  ...       NaN  NaN  US       NaN   \n",
       "\n",
       "  CT.1 US.1  M   0  17    3/8/2007 18:03  \n",
       "0  NaN   GB  M  10  19    7/26/2007 2:36  \n",
       "1   CO   US  M   6  24    4/7/2007 19:39  \n",
       "2   AZ   US  M   9   7   5/16/2007 11:37  \n",
       "3  NaN   AT  M   0  25  10/18/2007 12:52  \n",
       "4  NaN   US  M   8   4    2/11/2007 1:59  \n",
       "\n",
       "[5 rows x 25 columns]"
      ]
     },
     "execution_count": 61,
     "metadata": {},
     "output_type": "execute_result"
    }
   ],
   "source": [
    "import pandas as pd\n",
    "\n",
    "# Corrected URL pointing to the raw CSV file\n",
    "url = 'https://raw.githubusercontent.com/microsoft/DataStoriesSamples/master/samples/FraudDetectionOnADL/Data/transactions.csv'\n",
    "\n",
    "# Use pandas to read the CSV file directly from the raw URL\n",
    "df = pd.read_csv(url)\n",
    "\n",
    "# Display the first few rows of the DataFrame\n",
    "df.head()\n",
    "\n"
   ]
  },
  {
   "cell_type": "code",
   "execution_count": 58,
   "id": "7927106d",
   "metadata": {},
   "outputs": [
    {
     "data": {
      "text/plain": [
       "(599999, 25)"
      ]
     },
     "execution_count": 58,
     "metadata": {},
     "output_type": "execute_result"
    }
   ],
   "source": [
    "df.shape"
   ]
  },
  {
   "cell_type": "code",
   "execution_count": 64,
   "id": "8af8d701",
   "metadata": {},
   "outputs": [],
   "source": [
    "# Assuming 'df' is your DataFrame\n",
    "complete_transaction = 'complete_transaction.parquet'  # Name of the local file to be created\n",
    "df.to_parquet(complete_transaction, index=False)"
   ]
  },
  {
   "cell_type": "code",
   "execution_count": 65,
   "id": "f62176f4",
   "metadata": {},
   "outputs": [],
   "source": [
    "import os\n",
    "\n",
    "# Replace 'path/to/your/service-account-file.json' with the actual path to your service account key file\n",
    "os.environ['GOOGLE_APPLICATION_CREDENTIALS'] = 'C:\\\\Users\\\\ajupe\\\\OneDrive - New Zealand Skills & Education Group\\\\GDDA7123C\\\\GDDA707_Advanced Data Engineering\\\\Assessment-2\\\\gdda707assessment2-2bfa36490da5.json'\n"
   ]
  },
  {
   "cell_type": "code",
   "execution_count": 66,
   "id": "957681f8",
   "metadata": {},
   "outputs": [
    {
     "name": "stdout",
     "output_type": "stream",
     "text": [
      "File complete_transaction.parquet uploaded to bank_transaction/complete_transaction.parquet.\n"
     ]
    }
   ],
   "source": [
    "from google.cloud import storage\n",
    "\n",
    "# Initialize the Google Cloud Storage client\n",
    "storage_client = storage.Client()\n",
    "\n",
    "# Your GCP bucket name\n",
    "bucket_name = '707storage'\n",
    "\n",
    "# The destination path and file name in your bucket\n",
    "destination_blob_name = 'bank_transaction/complete_transaction.parquet'\n",
    "\n",
    "# The path to your local file you want to upload\n",
    "parquet_file = 'complete_transaction.parquet'\n",
    "\n",
    "# Get the bucket\n",
    "bucket = storage_client.bucket(bucket_name)\n",
    "\n",
    "# Create a new blob and upload the file's content\n",
    "blob = bucket.blob(destination_blob_name)\n",
    "blob.upload_from_filename(parquet_file)\n",
    "\n",
    "print(f'File {parquet_file} uploaded to {destination_blob_name}.')\n"
   ]
  },
  {
   "cell_type": "code",
   "execution_count": null,
   "id": "9ba35a16",
   "metadata": {},
   "outputs": [],
   "source": []
  },
  {
   "cell_type": "code",
   "execution_count": null,
   "id": "6daa96ed",
   "metadata": {},
   "outputs": [],
   "source": []
  }
 ],
 "metadata": {
  "kernelspec": {
   "display_name": "Python 3 (ipykernel)",
   "language": "python",
   "name": "python3"
  },
  "language_info": {
   "codemirror_mode": {
    "name": "ipython",
    "version": 3
   },
   "file_extension": ".py",
   "mimetype": "text/x-python",
   "name": "python",
   "nbconvert_exporter": "python",
   "pygments_lexer": "ipython3",
   "version": "3.11.5"
  }
 },
 "nbformat": 4,
 "nbformat_minor": 5
}
